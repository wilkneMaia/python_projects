{
 "cells": [
  {
   "cell_type": "markdown",
   "metadata": {},
   "source": [
    "<a href=\"https://colab.research.google.com/github/wilkneMaia/Desenhar-losango-com-digitos/blob/main/Python_Desenhar_um_Losango_com_D%C3%ADgitos.ipynb\" target=\"_parent\"><img src=\"https://colab.research.google.com/assets/colab-badge.svg\" alt=\"Open In Colab\"/></a>"
   ]
  },
  {
   "cell_type": "markdown",
   "metadata": {},
   "source": [
    "# Desenhar um Losango em Texto."
   ]
  },
  {
   "cell_type": "markdown",
   "metadata": {},
   "source": [
    "## O Desafio\n",
    "\n",
    "Este desafio é um exemplo clássico de como abordagens diretas podem ser mais desafiadoras do que parecem à primeira vista.\n",
    "\n",
    "### Abordagens Possíveis\n",
    "\n",
    "1. **Abordagem Direta:**\n",
    "   - Tentar resolver o problema de uma só vez pode levar a focar excessivamente no resultado final, resultando em uma complexidade desnecessária com loops e manipulações de `strings` que podem confundir mais do que ajudar.\n",
    "\n",
    "2. **Abordagem Incremental:**\n",
    "   - Decompor o problema em subproblemas menores é uma estratégia eficaz. Essa abordagem permite entender melhor cada componente do problema, facilitando a implementação e reduzindo a chance de erros.\n",
    "\n",
    "### Recomendação\n",
    "\n",
    "A abordagem incremental não só simplifica o processo de desenvolvimento, como também proporciona uma base sólida para futuras expansões e manutenção do código. Cada passo se torna uma mini vitória, garantindo que todos os aspectos do problema sejam devidamente considerados e implementados.\n"
   ]
  },
  {
   "cell_type": "markdown",
   "metadata": {},
   "source": [
    "## Estratégia de Solução\n",
    "\n",
    "Para resolver o problema de desenhar um losango numérico, utilizaremos uma abordagem passo a passo que envolve a decomposição do problema em tarefas menores e mais gerenciáveis. Cada passo é crucial para a construção do losango final:\n",
    "\n",
    "1. **Centralização dos Números na Linha:**\n",
    "   - Para que os números apareçam centralizados em cada linha, será necessário calcular o espaço necessário de preenchimento à esquerda de cada linha de texto.\n",
    "\n",
    "2. **Criação do Intervalo de Números:**\n",
    "   - Desenvolver uma função que gere uma sequência de números que aumenta de `0` até `N` e depois diminui até `0` novamente, o que forma a base de cada linha do losango.\n",
    "\n",
    "3. **Conversão do Intervalo em Texto:**\n",
    "   - Converter a sequência numérica de cada linha em uma string para facilitar a manipulação e a exibição.\n",
    "\n",
    "4. **Geração da Linha de Texto a partir do Intervalo:**\n",
    "   - Transformar a sequência numérica já convertida em string em uma linha de texto que será uma das linhas do losango.\n",
    "\n",
    "5. **Construção do Losango com Pilhas de Linhas:**\n",
    "   - Empilhar todas as linhas geradas de forma a formar o losango, começando pela linha mais curta no topo, até a linha mais longa no meio, e então decrescendo novamente até a linha mais curta na base.\n",
    "\n",
    "Esta estrutura metódica não apenas facilita a compreensão e a implementação de cada etapa, mas também ajuda a manter o controle sobre o fluxo do desenvolvimento e a garantir que todos os aspectos do problema sejam abordados.\n"
   ]
  },
  {
   "cell_type": "markdown",
   "metadata": {},
   "source": [
    "## Como Centralizar os Números?\n",
    "\n",
    "A centralização dos números em cada linha do losango é fundamental para a estética do desenho. O processo de centralização é realizado calculando a margem necessária para que o texto fique alinhado simetricamente.\n",
    "\n",
    "### Cálculo da Margem\n",
    "A margem é determinada pelo número de espaços necessários antes do primeiro caractere do número, que é calculado como:\n",
    "`margem = (largura_máxima - largura_atual) // 2`\n",
    "\n",
    "onde `largura_máxima` é o número de elementos da linha mais larga e `largura_atual` é o número de elementos da linha que está sendo processada.\n",
    "\n",
    "### Implementação da Função de Centralização\n",
    "\n",
    "A função `centraliza` é implementada da seguinte maneira:"
   ]
  },
  {
   "cell_type": "code",
   "execution_count": 1,
   "metadata": {},
   "outputs": [
    {
     "name": "stdout",
     "output_type": "stream",
     "text": [
      "01210\n"
     ]
    }
   ],
   "source": [
    "def intervalo(n):\n",
    "    # Uso de lista literal com desempacotamento para combinar duas sequências de range\n",
    "    return [*range(n), *range(n, -1, -1)]\n",
    "\n",
    "def text(numeros):\n",
    "    # Cria uma lista de strings a partir dos números e depois concatena tudo em uma única string\n",
    "    return ''.join([str(n) for n in numeros])\n",
    "\n",
    "assert text(intervalo(2)) == '01210'\n",
    "\n",
    "resultado = ''.join([str(n) for n in intervalo(2)])\n",
    "print(resultado)  # Saída: '01210'\n"
   ]
  },
  {
   "cell_type": "code",
   "execution_count": 2,
   "metadata": {},
   "outputs": [],
   "source": [
    "def centraliza(texto, largura, separador=' '):\n",
    "    return f'{texto:{separador}^{largura}}'\n",
    "\n",
    "def intervalo(n):\n",
    "    return [*range(n), *range(n, -1, -1)]"
   ]
  },
  {
   "cell_type": "markdown",
   "metadata": {},
   "source": [
    "### Testes de Verificação\n",
    "Para garantir que a função centraliza funciona corretamente, utilizamos declarações assert, que ajudam a verificar a corretude do código:"
   ]
  },
  {
   "cell_type": "code",
   "execution_count": 3,
   "metadata": {},
   "outputs": [
    {
     "name": "stdout",
     "output_type": "stream",
     "text": [
      "01210\n"
     ]
    }
   ],
   "source": [
    "def intervalo(n):\n",
    "    return [*range(n), *range(n, -1, -1)]\n",
    "\n",
    "def text(numeros):\n",
    "    l = [str(n) for n in numeros]\n",
    "    return ''.join(l)\n",
    "\n",
    "resultado = text(intervalo(2))\n",
    "print(resultado)  # Saída: '01210'"
   ]
  },
  {
   "cell_type": "code",
   "execution_count": 3,
   "metadata": {},
   "outputs": [],
   "source": [
    "assert centraliza('0', 5) == '  0  '  # Testa centralização de um único caractere\n",
    "assert centraliza('010', 5) == ' 010 '  # Testa centralização de três caracteres\n",
    "assert centraliza('01210', 5) == '01210'  # Testa centralização sem margens adicionais"
   ]
  },
  {
   "cell_type": "code",
   "execution_count": 12,
   "metadata": {},
   "outputs": [
    {
     "data": {
      "text/plain": [
       "'       Hello       '"
      ]
     },
     "execution_count": 12,
     "metadata": {},
     "output_type": "execute_result"
    }
   ],
   "source": [
    "# função `centraliza`\n",
    "def centraliza(texto, largura):\n",
    "  margem = (largura - len(texto)) // 2\n",
    "  return ' ' * margem + texto + ' ' * margem\n",
    "\n",
    "# saída de dados esperada.\n",
    "assert centraliza('0', 5) == '  0  '\n",
    "assert centraliza('010', 5) == ' 010 '\n",
    "assert centraliza('01210', 5) == '01210'\n",
    "\n",
    "centraliza('Hello', 10)\n",
    "\n",
    "# `assert` auxilia na depuração, verificando a sanidade interna do programa."
   ]
  },
  {
   "cell_type": "code",
   "execution_count": 43,
   "metadata": {},
   "outputs": [
    {
     "name": "stdout",
     "output_type": "stream",
     "text": [
      "01210\n"
     ]
    }
   ],
   "source": [
    "def intervalo(n):\n",
    "    return [*range(n), *range(n, -1, -1)]\n",
    "\n",
    "def text(numeros):\n",
    "    s = ''\n",
    "    for n in numeros:\n",
    "        s += str(n)  # Concatena cada número convertido para string\n",
    "    return s\n",
    "\n",
    "resultado = text(intervalo(2))\n",
    "print(resultado)  # Saída: '01210'"
   ]
  },
  {
   "cell_type": "markdown",
   "metadata": {},
   "source": [
    "### String format"
   ]
  },
  {
   "cell_type": "markdown",
   "metadata": {},
   "source": [
    "O `String` format aceita parametrizar varias coisas interessantes:<br />\n",
    "Definir a largura, inserir variável e colocar o separador."
   ]
  },
  {
   "cell_type": "code",
   "execution_count": 5,
   "metadata": {},
   "outputs": [
    {
     "data": {
      "text/plain": [
       "'  0  '"
      ]
     },
     "execution_count": 5,
     "metadata": {},
     "output_type": "execute_result"
    }
   ],
   "source": [
    "# String format\n",
    "'{texto:{separador}^{largura}}'.format(texto='0', separador=' ', largura=5)"
   ]
  },
  {
   "cell_type": "code",
   "execution_count": 3,
   "metadata": {},
   "outputs": [],
   "source": [
    "# função `centraliza`\n",
    "def centraliza(texto, largura):\n",
    "  # String format\n",
    "  return '{texto:{separador}^{largura}}'.format(texto=texto, separador=' ', largura=largura)\n",
    "\n",
    "# saída de dados esperada.\n",
    "assert centraliza('0', 5) == '  0  '\n",
    "assert centraliza('010', 5) == ' 010 '\n",
    "assert centraliza('01210', 5) == '01210'"
   ]
  },
  {
   "cell_type": "markdown",
   "metadata": {},
   "source": [
    "### String format literal"
   ]
  },
  {
   "cell_type": "markdown",
   "metadata": {},
   "source": [
    "O `Python 3.7` tem o String format literal.<br />\n",
    "Ao colocar `f`, sinaliza que esta string `'{texto:{separador}^{largura}}'` é pra executar o format com o escopo local.<br />\n",
    "E coloca o `separador=' '` em cima."
   ]
  },
  {
   "cell_type": "code",
   "execution_count": 4,
   "metadata": {},
   "outputs": [],
   "source": [
    "# função `centraliza`\n",
    "def centraliza(texto, largura, separador=' '):\n",
    "  # String format literal\n",
    "  return f'{texto:{separador}^{largura}}'\n",
    "\n",
    "# saída de dados esperada.\n",
    "assert centraliza('0', 5) == '  0  '\n",
    "assert centraliza('010', 5) == ' 010 '\n",
    "assert centraliza('01210', 5) == '01210'"
   ]
  },
  {
   "cell_type": "markdown",
   "metadata": {},
   "source": [
    "## Como criar o intervalo de 0...N...0?"
   ]
  },
  {
   "cell_type": "markdown",
   "metadata": {},
   "source": [
    "O função `if()` é uma estrutura condicional."
   ]
  },
  {
   "cell_type": "code",
   "execution_count": 5,
   "metadata": {},
   "outputs": [],
   "source": [
    "# função `intervalo`.\n",
    "def intervalo(n):\n",
    "  if n == 1:\n",
    "    return [0, 1, 0]\n",
    "  if n == 2:\n",
    "    return [0, 1, 2, 1, 0]\n",
    "  if n == 9:\n",
    "    return [0, 1, 2, 3, 4, 5, 6, 7, 8, 9, 8, 7, 6, 5, 4, 3, 2, 1, 0]\n",
    "\n",
    "# saída de dados esperada.\n",
    "  assert intervalo(0) == [0]\n",
    "  assert intervalo(1) == [0, 1, 0]\n",
    "  assert intervalo(2) == [0, 1, 2, 1, 0]\n",
    "  assert intervalo(9) == [0, 1, 2, 3, 4, 5, 6, 7, 8, 9, 8, 7, 6, 5, 4, 3, 2, 1, 0]"
   ]
  },
  {
   "cell_type": "markdown",
   "metadata": {},
   "source": [
    "Iremos pegar o `range()` que é um gerador e passando para uma lista para poder compor os números que queremos e depois combinado as duas listas e gerando uma nova lista.<br />\n",
    "A função `range()` retorna uma série numérica no intervalo enviado como argumento.<br />\n",
    "A função `list()` nada mais é do que uma lista comum."
   ]
  },
  {
   "cell_type": "code",
   "execution_count": 6,
   "metadata": {},
   "outputs": [
    {
     "data": {
      "text/plain": [
       "[0, 1, 2, 1, 0]"
      ]
     },
     "execution_count": 6,
     "metadata": {},
     "output_type": "execute_result"
    }
   ],
   "source": [
    "# função `intervalo`.\n",
    "def intervalo(n):\n",
    "  return list(range(n)) + list(range(n, -1, -1))\n",
    "\n",
    "# saída de dados esperada.\n",
    "assert intervalo(0) == [0]\n",
    "assert intervalo(1) == [0, 1, 0]\n",
    "assert intervalo(2) == [0, 1, 2, 1, 0]\n",
    "assert intervalo(9) == [0, 1, 2, 3, 4, 5, 6, 7, 8, 9, 8, 7, 6, 5, 4, 3, 2, 1, 0]\n",
    "\n",
    "list(range(2)) + list(range(2, -1, -1))"
   ]
  },
  {
   "cell_type": "markdown",
   "metadata": {},
   "source": [
    "### Lista literal\n",
    "\n",
    "Podemos passar a `lista literal` e dizer para ele que pega do range e desempacota o conteúdo do *range* dentro daquela lista."
   ]
  },
  {
   "cell_type": "code",
   "execution_count": 7,
   "metadata": {},
   "outputs": [
    {
     "data": {
      "text/plain": [
       "[0, 1, 2, 1, 0]"
      ]
     },
     "execution_count": 7,
     "metadata": {},
     "output_type": "execute_result"
    }
   ],
   "source": [
    "# função `intervalo`.\n",
    "def intervalo(n):\n",
    "  # lista literal\n",
    "  return [*range(n), *range(n, -1, -1)]\n",
    "\n",
    "# saída de dados esperada.\n",
    "assert intervalo(0) == [0]\n",
    "assert intervalo(1) == [0, 1, 0]\n",
    "assert intervalo(2) == [0, 1, 2, 1, 0]\n",
    "assert intervalo(9) == [0, 1, 2, 3, 4, 5, 6, 7, 8, 9, 8, 7, 6, 5, 4, 3, 2, 1, 0]\n",
    "\n",
    "n = 2\n",
    "[*range(n), *range(n, -1, -1)]"
   ]
  },
  {
   "cell_type": "markdown",
   "metadata": {},
   "source": []
  },
  {
   "cell_type": "markdown",
   "metadata": {},
   "source": [
    "## Como transformar o intervalo em texto?"
   ]
  },
  {
   "cell_type": "markdown",
   "metadata": {},
   "source": [
    "Podemos passar uma lista para cada número e inserindo a `string`. Assim estaremos concatenando string no loop."
   ]
  },
  {
   "cell_type": "code",
   "execution_count": 8,
   "metadata": {},
   "outputs": [
    {
     "data": {
      "text/plain": [
       "'01210'"
      ]
     },
     "execution_count": 8,
     "metadata": {},
     "output_type": "execute_result"
    }
   ],
   "source": [
    "# função `text`.\n",
    "def text(numeros):\n",
    "  s = ''\n",
    "  for n in numeros:\n",
    "    s += str(n)\n",
    "  return s\n",
    "\n",
    "# saída de dados esperada.\n",
    "  assert text(intervalo(intervalo(2) == '01210'))\n",
    "\n",
    "# saída de dados.\n",
    "text(intervalo(2))"
   ]
  },
  {
   "cell_type": "markdown",
   "metadata": {},
   "source": [
    "String no Python é imutável, quando utiliza desta forma `s += str(n)` ele ira criando uma nova string temporária.<br />\n",
    "Em vez de concatenar `string` criar uma lista e colocar as `string` esta lista.<br />\n",
    "O método join() pega o tamanho de todo mundo, aloca um espaço só na memória e colocando cada pedacinho de uma vez só."
   ]
  },
  {
   "cell_type": "code",
   "execution_count": 9,
   "metadata": {},
   "outputs": [],
   "source": [
    "# função `text`.\n",
    "def text(numeros):\n",
    "  l = []\n",
    "\n",
    "  for n in numeros:\n",
    "    l.append(str(n))\n",
    "\n",
    "  return ''.join(l)\n",
    "\n",
    "  # saída de dados esperada.\n",
    "  assert text(intervalo(intervalo(2) == '01210'))"
   ]
  },
  {
   "cell_type": "markdown",
   "metadata": {},
   "source": [
    "# List Comprehension\n",
    "\n",
    "exemplo\n",
    "\n",
    "~~~python\n",
    "[x+1 for x in range(5) if x%2 ==2]\n",
    "~~~"
   ]
  },
  {
   "cell_type": "code",
   "execution_count": 10,
   "metadata": {},
   "outputs": [
    {
     "data": {
      "text/plain": [
       "['0', '1', '2', '1', '0']"
      ]
     },
     "execution_count": 10,
     "metadata": {},
     "output_type": "execute_result"
    }
   ],
   "source": [
    "# função `text`.\n",
    "def text(numeros):\n",
    "  l = [str(n) for n in numeros]\n",
    "\n",
    "  return ''.join(l)\n",
    "\n",
    "# saída de dados esperada.\n",
    "assert text(intervalo(intervalo(2) == '01210'))\n",
    "\n",
    "# saída de dados\n",
    "[str(n) for n in intervalo(2)]"
   ]
  },
  {
   "cell_type": "markdown",
   "metadata": {},
   "source": [
    "Passar `[str(n) for n in intervalo(2)]` direto para o `join()`."
   ]
  },
  {
   "cell_type": "code",
   "execution_count": 11,
   "metadata": {},
   "outputs": [
    {
     "data": {
      "text/plain": [
       "'01210'"
      ]
     },
     "execution_count": 11,
     "metadata": {},
     "output_type": "execute_result"
    }
   ],
   "source": [
    "# função `text`.\n",
    "def text(numeros):\n",
    "  return ''.join([str(n) for n in numeros])\n",
    "\n",
    "# saída de dados esperada.\n",
    "assert text(intervalo(intervalo(2) == '01210'))\n",
    "\n",
    "# saída de dados\n",
    "''.join([str(n) for n in intervalo(2)])"
   ]
  },
  {
   "cell_type": "markdown",
   "metadata": {},
   "source": [
    "### Generator Expressions\n",
    "\n",
    "Substituir `[]` por `()`.<br />\n",
    "Ao invés de criar uma lista em memória ele vai produzindo um item de cada vez, consumindo um espaço de memória em vez to espaço todos de uma lista."
   ]
  },
  {
   "cell_type": "code",
   "execution_count": 12,
   "metadata": {},
   "outputs": [
    {
     "data": {
      "text/plain": [
       "'01210'"
      ]
     },
     "execution_count": 12,
     "metadata": {},
     "output_type": "execute_result"
    }
   ],
   "source": [
    "# função `text`.\n",
    "def text(numeros):\n",
    "  return ''.join((str(n) for n in numeros))\n",
    "\n",
    "# saída de dados esperada.\n",
    "assert text(intervalo(intervalo(2) == '01210'))\n",
    "\n",
    "# saída de dados\n",
    "''.join([str(n) for n in intervalo(2)])"
   ]
  },
  {
   "cell_type": "markdown",
   "metadata": {},
   "source": [
    "O Python permite que omita os `()` generator Expressions. ficando assim o código return `''.join(str(n) for n in números)`."
   ]
  },
  {
   "cell_type": "code",
   "execution_count": 13,
   "metadata": {},
   "outputs": [
    {
     "data": {
      "text/plain": [
       "' 010 '"
      ]
     },
     "execution_count": 13,
     "metadata": {},
     "output_type": "execute_result"
    }
   ],
   "source": [
    "# função `text`.\n",
    "def text(numeros):\n",
    "  return ''.join(str(n) for n in numeros)\n",
    "\n",
    "# saída de dados esperada.\n",
    "assert text(intervalo(intervalo(2) == '01210'))\n",
    "\n",
    "# saída de dados\n",
    "centraliza(text(intervalo(1)), 5)"
   ]
  },
  {
   "cell_type": "markdown",
   "metadata": {},
   "source": [
    "## Como gerar a linha em texto a parti do intervalo?"
   ]
  },
  {
   "cell_type": "code",
   "execution_count": 14,
   "metadata": {},
   "outputs": [
    {
     "data": {
      "text/plain": [
       "'  010  '"
      ]
     },
     "execution_count": 14,
     "metadata": {},
     "output_type": "execute_result"
    }
   ],
   "source": [
    "# função `linha`.\n",
    "def linha(n, largura, separador=''):\n",
    "  return centraliza(text(intervalo(n)), largura, separador)\n",
    "\n",
    "# saída de dados esperada.\n",
    "assert linha(0, 5) == '  0  '\n",
    "assert linha(3, 7) == '0123210'\n",
    "\n",
    "# saída de dados\n",
    "linha(1, 7, ' ')"
   ]
  },
  {
   "cell_type": "markdown",
   "metadata": {},
   "source": [
    "### Interact\n",
    "A função interact (ipywidgets.interact) cria automaticamente controles de interface de usuário (UI) para explorar código e dados interativamente. É a maneira mais fácil de começar a usar os widgets do IPython."
   ]
  },
  {
   "cell_type": "code",
   "execution_count": 15,
   "metadata": {},
   "outputs": [],
   "source": [
    "# import\n",
    "from ipywidgets import interact"
   ]
  },
  {
   "cell_type": "code",
   "execution_count": null,
   "metadata": {},
   "outputs": [],
   "source": [
    "interact(linha, n=(0, 9, 1), largura=(0, 9*2+1, 1))"
   ]
  },
  {
   "cell_type": "code",
   "execution_count": 18,
   "metadata": {},
   "outputs": [
    {
     "name": "stdout",
     "output_type": "stream",
     "text": [
      " 010 \n"
     ]
    }
   ],
   "source": [
    "def centraliza(texto, largura, separador=' '):\n",
    "    return f'{texto:{separador}^{largura}}'\n",
    "\n",
    "def intervalo(n):\n",
    "    return [*range(n), *range(n, -1, -1)]\n",
    "\n",
    "resultado_final = centraliza(text(intervalo(1)), 5)\n",
    "print(resultado_final)  # Saída: '  010  '\n",
    "\n",
    "assert text(intervalo(2)) == '  010  '"
   ]
  },
  {
   "cell_type": "markdown",
   "metadata": {},
   "source": [
    "## Como gerar o losango com uma pilha de linhas?"
   ]
  },
  {
   "cell_type": "code",
   "execution_count": 19,
   "metadata": {},
   "outputs": [
    {
     "name": "stdout",
     "output_type": "stream",
     "text": [
      "  0  \n",
      " 010 \n",
      "01210\n",
      " 010 \n",
      "  0  \n"
     ]
    }
   ],
   "source": [
    "# função `losango`.\n",
    "def losango(tamanho):\n",
    "  largura = tamanho * 2 + 1\n",
    "\n",
    "  numeros = intervalo(tamanho)\n",
    "  linhas = []\n",
    "\n",
    "  for n in numeros:\n",
    "    linhas.append(linha(n, largura))\n",
    "\n",
    "  return '\\n'.join(linhas)\n",
    "\n",
    "# saída de dados esperada.\n",
    "assert losango(2) == (\n",
    "'  0  \\n'\n",
    "' 010 \\n'\n",
    "'01210\\n'\n",
    "' 010 \\n'\n",
    "'  0  '\n",
    ")\n",
    "\n",
    "# saída de dados\n",
    "print(losango(2))"
   ]
  },
  {
   "cell_type": "markdown",
   "metadata": {},
   "source": [
    "### Interact\n",
    "Neste caso como o `interact` retorna uma string é preciso fazer um `print`, criando uma função anônima `lambda`."
   ]
  },
  {
   "cell_type": "code",
   "execution_count": null,
   "metadata": {},
   "outputs": [],
   "source": [
    "interact(lambda n: print(losango(n)), n=(0, 9, 1))"
   ]
  },
  {
   "cell_type": "markdown",
   "metadata": {},
   "source": [
    "### Melhorias"
   ]
  },
  {
   "cell_type": "code",
   "execution_count": 21,
   "metadata": {},
   "outputs": [
    {
     "data": {
      "application/vnd.jupyter.widget-view+json": {
       "model_id": "f27973515df44f6ba0320050076a622d",
       "version_major": 2,
       "version_minor": 0
      },
      "text/plain": [
       "interactive(children=(IntSlider(value=4, description='n', max=9), Output()), _dom_classes=('widget-interact',)…"
      ]
     },
     "metadata": {},
     "output_type": "display_data"
    },
    {
     "data": {
      "text/plain": [
       "<function __main__.<lambda>(n)>"
      ]
     },
     "execution_count": 21,
     "metadata": {},
     "output_type": "execute_result"
    }
   ],
   "source": [
    "# função `losango`.\n",
    "def losango(tamanho):\n",
    "  largura = tamanho * 2 + 1\n",
    "  return '\\n'.join(linha(n, largura) for n in intervalo(tamanho))\n",
    "\n",
    "# saída de dados esperada.\n",
    "assert losango(2) == (\n",
    "'  0  \\n'\n",
    "' 010 \\n'\n",
    "'01210\\n'\n",
    "' 010 \\n'\n",
    "'  0  '\n",
    ")\n",
    "\n",
    "# saída de dados\n",
    "interact(lambda n: print(losango(n)), n=(0, 9, 1))"
   ]
  },
  {
   "cell_type": "markdown",
   "metadata": {},
   "source": [
    "# Como fica tudo junto?"
   ]
  },
  {
   "cell_type": "code",
   "execution_count": 22,
   "metadata": {},
   "outputs": [],
   "source": [
    "def intervalo(n):\n",
    "  return (*range(n), *range(n, -1, -1))\n",
    "\n",
    "def centraliza(texto, largura, separador=' '):\n",
    "  return f'{texto:{separador}^{largura}}'\n",
    "\n",
    "def texto(numeros):\n",
    "  return ''.join(str(n) for n in numeros)\n",
    "\n",
    "def linha (n, largura, sep=''):\n",
    "  return centraliza(text(intervalo(n)), largura, sep)\n",
    "\n",
    "def losango(n, separador=' '):\n",
    "  largura = n * 2 + 1\n",
    "\n",
    "  return '\\n'.join(linha(n, largura, separador) for n in intervalo(n))\n",
    "\n",
    "\n",
    "assert centraliza('0', 5) == '  0  '\n",
    "assert centraliza('010', 5) == ' 010 '\n",
    "assert centraliza('01210', 5) == '01210'\n",
    "\n",
    "assert intervalo(0) == (0,)\n",
    "assert intervalo(1) == (0, 1, 0)\n",
    "assert intervalo(2) == (0, 1, 2, 1, 0)\n",
    "assert intervalo(9) == (0, 1, 2, 3, 4, 5, 6, 7, 8, 9, 8, 7, 6, 5, 4, 3, 2, 1, 0)\n",
    "\n",
    "assert texto(intervalo(2)) == '01210'\n",
    "\n",
    "assert linha(3, largura=7) == '0123210'\n",
    "assert linha(0, largura=7) == '   0   '\n",
    "\n",
    "assert losango(2) == (\n",
    "'  0  \\n'\n",
    "' 010 \\n'\n",
    "'01210\\n'\n",
    "' 010 \\n'\n",
    "'  0  '\n",
    ")"
   ]
  },
  {
   "cell_type": "code",
   "execution_count": null,
   "metadata": {},
   "outputs": [],
   "source": [
    "# Losango\n",
    "interact(lambda n, sep: print(losango(n, sep)), n=(0, 9, 1), sep='')"
   ]
  },
  {
   "cell_type": "markdown",
   "metadata": {},
   "source": [
    "**Links:**\n",
    "\n",
    "* [Henrique Bastos](https://henriquebastos.net/)"
   ]
  }
 ],
 "metadata": {
  "kernelspec": {
   "display_name": ".venv",
   "language": "python",
   "name": "python3"
  },
  "language_info": {
   "codemirror_mode": {
    "name": "ipython",
    "version": 3
   },
   "file_extension": ".py",
   "mimetype": "text/x-python",
   "name": "python",
   "nbconvert_exporter": "python",
   "pygments_lexer": "ipython3",
   "version": "3.12.4"
  }
 },
 "nbformat": 4,
 "nbformat_minor": 2
}
